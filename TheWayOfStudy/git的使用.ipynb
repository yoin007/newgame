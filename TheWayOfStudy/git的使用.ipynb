{
 "cells": [
  {
   "cell_type": "markdown",
   "metadata": {},
   "source": [
    "#### 把现有文件夹中的改动都提交到暂缓区\n",
    " git add ./\n",
    "#### 然后提交到代码库\n",
    " git commit -m 'change description'\n",
    "#### ssh远程连接\n",
    " git remote add origin https://github.com/yoin007/newgame.git\n",
    "#### 推送到remote远端\n",
    "git push -u origin master\n",
    "#### Step4.创建新的分支branch，同时进入该新branch\n",
    "git checkout -b 'newbranch'\n",
    "newbranch是新branch 的名称，用户可以随意改动\n",
    "如果要改回master主干，用\n",
    "git checkout master\n",
    "#### Step5.查看过去记录\n",
    "git log"
   ]
  },
  {
   "cell_type": "code",
   "execution_count": null,
   "metadata": {},
   "outputs": [],
   "source": []
  }
 ],
 "metadata": {
  "kernelspec": {
   "display_name": "py35",
   "language": "python",
   "name": "py35"
  },
  "language_info": {
   "codemirror_mode": {
    "name": "ipython",
    "version": 3
   },
   "file_extension": ".py",
   "mimetype": "text/x-python",
   "name": "python",
   "nbconvert_exporter": "python",
   "pygments_lexer": "ipython3",
   "version": "3.5.6"
  }
 },
 "nbformat": 4,
 "nbformat_minor": 2
}
